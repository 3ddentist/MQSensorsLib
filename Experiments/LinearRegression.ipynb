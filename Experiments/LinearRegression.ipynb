{
 "cells": [
  {
   "cell_type": "code",
   "execution_count": null,
   "metadata": {},
   "outputs": [],
   "source": [
    "!pip install pandas\n",
    "!pip install xlrd"
   ]
  },
  {
   "cell_type": "code",
   "execution_count": null,
   "metadata": {},
   "outputs": [],
   "source": [
    "import xlrd\n",
    "book = xlrd.open_workbook(\"Datasheets info.xlsx\")\n",
    "sheetMQ2 = book.sheet_by_name(\"MQ2 - Pololulu\")\n",
    "sheetMQ2 = book.sheet_by_name(\"MQ3 - Sparkfun\")\n",
    "sheetMQ2 = book.sheet_by_name(\"MQ4 - Sparkfun\")\n",
    "sheetMQ2 = book.sheet_by_name(\"MQ5 - Sparkfun\")\n",
    "sheetMQ2 = book.sheet_by_name(\"MQ6 - Sparkfun\")\n",
    "sheetMQ2 = book.sheet_by_name(\"MQ7 - Sparkfun\")\n",
    "sheetMQ2 = book.sheet_by_name(\"MQ8 - Sparkfun\")\n",
    "sheetMQ2 = book.sheet_by_name(\"MQ9 - Haoyuelectronics\")\n",
    "sheetMQ2 = book.sheet_by_name(\"MQ131- Sensorsportal\")\n",
    "sheetMQ2 = book.sheet_by_name(\"MQ135 - HANWEI\")\n",
    "sheetMQ2 = book.sheet_by_name(\"MQ131- Sensorsportal\")\n",
    "sheetMQ2 = book.sheet_by_name(\"MQ131- Sensorsportal\")\n",
    "sheetMQ2 = book.sheet_by_name(\"MQ131- Sensorsportal\")"
   ]
  }
 ],
 "metadata": {
  "kernelspec": {
   "display_name": "Python 3",
   "language": "python",
   "name": "python3"
  },
  "language_info": {
   "codemirror_mode": {
    "name": "ipython",
    "version": 3
   },
   "file_extension": ".py",
   "mimetype": "text/x-python",
   "name": "python",
   "nbconvert_exporter": "python",
   "pygments_lexer": "ipython3",
   "version": "3.7.3"
  }
 },
 "nbformat": 4,
 "nbformat_minor": 2
}
