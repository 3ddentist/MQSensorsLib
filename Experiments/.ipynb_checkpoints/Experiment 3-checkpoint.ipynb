{
 "cells": [
  {
   "cell_type": "markdown",
   "metadata": {},
   "source": [
    "# Este experimento fue realizado despues de +48 horas de precalentamiento.\n",
    "## El objetivo fue determinar R0 de forma practica en un espacio con aire limpio.\n",
    "### Por ello fue durante las horas de la noche."
   ]
  },
  {
   "cell_type": "markdown",
   "metadata": {},
   "source": [
    "install xlrd library"
   ]
  },
  {
   "cell_type": "code",
   "execution_count": null,
   "metadata": {},
   "outputs": [],
   "source": [
    "!pip install pandas\n",
    "!pip install xlrd"
   ]
  },
  {
   "cell_type": "code",
   "execution_count": 3,
   "metadata": {},
   "outputs": [],
   "source": [
    "import xlrd\n",
    "book = xlrd.open_workbook(\"Experimento 3 - 1 de Junio.xlsx\")\n",
    "sheet = book.sheet_by_name(\"Experimento 3 - 1 de Junio\")"
   ]
  },
  {
   "cell_type": "code",
   "execution_count": 10,
   "metadata": {},
   "outputs": [
    {
     "name": "stdout",
     "output_type": "stream",
     "text": [
      "1.0 11.00 4.00 50.00 72.00 14.00 4.00 1.00 9.00\n",
      "2.0 11.00 4.00 51.00 72.00 13.00 4.00 1.00 8.00\n",
      "3.0 11.00 4.00 51.00 72.00 14.00 4.00 1.00 10.00\n",
      "4.0 10.00 4.00 51.00 72.00 14.00 4.00 1.00 10.00\n",
      "5.0 11.00 4.00 51.00 72.00 14.00 4.00 1.00 10.00\n",
      "6.0 11.00 4.00 51.00 72.00 14.00 4.00 1.00 10.00\n",
      "7.0 11.00 4.00 51.00 72.00 14.00 4.00 1.00 10.00\n",
      "8.0 11.00 4.00 51.00 72.00 14.00 4.00 1.00 9.00\n",
      "9.0 11.00 4.00 51.00 72.00 14.00 4.00 1.00 9.00\n",
      "10.0 11.00 4.00 52.00 73.00 14.00 4.00 1.00 9.00\n",
      "11.0 11.00 4.00 52.00 73.00 13.00 4.00 1.00 9.00\n",
      "12.0 10.00 4.00 51.00 72.00 13.00 4.00 1.00 9.00\n",
      "13.0 10.00 4.00 50.00 71.00 13.00 4.00 1.00 9.00\n",
      "14.0 10.00 4.00 50.00 70.00 13.00 4.00 1.00 9.00\n",
      "15.0 10.00 4.00 50.00 71.00 13.00 4.00 1.00 9.00\n"
     ]
    }
   ],
   "source": [
    "for row_index in range(5,20): #reading first columns\n",
    "    id, MQ2_R0, MQ3_R0, MQ4_R0, MQ5_R0, MQ6_R0, MQ7_R0, MQ8_R0, MQ9_R0, MQ2_Vm, MQ3_Vm, MQ4_Vm, MQ5_Vm, MQ6_Vm, MQ7_Vm, MQ8_Vm, MQ9_Vm = sheet.row_values(row_index)\n",
    "    print(id, MQ2_R0, MQ3_R0, MQ4_R0, MQ5_R0, MQ6_R0, MQ7_R0, MQ8_R0, MQ9_R0)"
   ]
  },
  {
   "cell_type": "code",
   "execution_count": 1,
   "metadata": {},
   "outputs": [],
   "source": []
  },
  {
   "cell_type": "code",
   "execution_count": null,
   "metadata": {},
   "outputs": [],
   "source": []
  },
  {
   "cell_type": "code",
   "execution_count": null,
   "metadata": {},
   "outputs": [],
   "source": []
  }
 ],
 "metadata": {
  "kernelspec": {
   "display_name": "Python 3",
   "language": "python",
   "name": "python3"
  }
 },
 "nbformat": 4,
 "nbformat_minor": 2
}
